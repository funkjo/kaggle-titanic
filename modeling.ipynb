{
 "metadata": {
  "language_info": {
   "codemirror_mode": {
    "name": "ipython",
    "version": 3
   },
   "file_extension": ".py",
   "mimetype": "text/x-python",
   "name": "python",
   "nbconvert_exporter": "python",
   "pygments_lexer": "ipython3",
   "version": "3.7.7-final"
  },
  "orig_nbformat": 2,
  "kernelspec": {
   "name": "python3",
   "display_name": "Python 3.7.7 64-bit ('ml_python': conda)",
   "metadata": {
    "interpreter": {
     "hash": "425c0ff3b57f916dcf47ed9bc3b06c8afea4e3946eb75ed292419f63c36692ce"
    }
   }
  }
 },
 "nbformat": 4,
 "nbformat_minor": 2,
 "cells": [
  {
   "cell_type": "code",
   "execution_count": 3,
   "metadata": {},
   "outputs": [],
   "source": [
    "import pandas as pd\n",
    "import numpy as np\n",
    "from sklearn.neural_network import MLPClassifier"
   ]
  },
  {
   "cell_type": "code",
   "execution_count": 2,
   "metadata": {},
   "outputs": [],
   "source": [
    "X_train = pd.read_csv('data/train2.csv')\n",
    "X_test = pd.read_csv('data/test2.csv')\n",
    "\n",
    "y_train = X_train['Survived']\n",
    "y_train = np.asarray(y_train)\n",
    "\n",
    "ID_train = X_train['PassengerId']\n",
    "ID_train = np.asarray(ID_train)\n",
    "\n",
    "X_train = X_train.drop(columns=['PassengerId', 'Survived'])\n",
    "X_train = np.asarray(X_train)\n",
    "\n",
    "ID_test = X_test['PassengerId']\n",
    "ID_test = np.asarray(ID_test)\n",
    "\n",
    "X_test = X_test.drop(columns=['PassengerId'])\n",
    "X_test = np.asarray(X_test)"
   ]
  },
  {
   "cell_type": "code",
   "execution_count": 5,
   "metadata": {},
   "outputs": [
    {
     "output_type": "stream",
     "name": "stdout",
     "text": [
      "[[1.         1.         0.27117366 ... 0.         0.01415106 0.66666667]\n [0.         0.         0.4722292  ... 0.         0.13913574 0.        ]\n [1.         0.         0.32143755 ... 0.         0.01546857 0.66666667]\n ...\n [1.         0.                nan ... 0.33333333 0.04577135 0.66666667]\n [0.         1.         0.32143755 ... 0.         0.0585561  0.        ]\n [1.         1.         0.39683338 ... 0.         0.01512699 0.33333333]]\n"
     ]
    }
   ],
   "source": [
    "print(X_train)"
   ]
  },
  {
   "cell_type": "code",
   "execution_count": 9,
   "metadata": {},
   "outputs": [
    {
     "output_type": "stream",
     "name": "stdout",
     "text": [
      "[0.65432099 0.64758698 0.36792055 0.06537598 0.06359895 0.06285843\n 0.51290685]\n[0.63277512 0.63636364 0.39697468 0.05592105 0.04359383 0.06953964\n 0.70095694]\n"
     ]
    }
   ],
   "source": [
    "col_mean_train = np.nanmean(X_train, axis=0)\n",
    "print(col_mean_train)\n",
    "\n",
    "col_mean_test = np.nanmean(X_test, axis=0)\n",
    "print(col_mean_test)"
   ]
  },
  {
   "cell_type": "code",
   "execution_count": 10,
   "metadata": {},
   "outputs": [],
   "source": [
    "inds_train = np.where(np.isnan(X_train))\n",
    "X_train[inds_train] = np.take(col_mean_train, inds_train[1])\n",
    "\n",
    "inds_test = np.where(np.isnan(X_test))\n",
    "X_test[inds_test] = np.take(col_mean_test, inds_test[1])"
   ]
  },
  {
   "cell_type": "code",
   "execution_count": 11,
   "metadata": {},
   "outputs": [],
   "source": [
    "mlp_model = MLPClassifier(hidden_layer_sizes=(150,100,50), activation='relu')\n",
    "mlp_model.fit(X_train, y_train)\n",
    "\n",
    "y_pred_mlp = mlp_model.predict(X_test)"
   ]
  },
  {
   "cell_type": "code",
   "execution_count": 12,
   "metadata": {},
   "outputs": [],
   "source": [
    "results = pd.DataFrame()\n",
    "results['PassengerId'] = ID_test\n",
    "results['Survived'] = y_pred_mlp\n",
    "\n",
    "results.to_csv(r'data/results1.csv', index=False)"
   ]
  },
  {
   "cell_type": "code",
   "execution_count": 13,
   "metadata": {},
   "outputs": [],
   "source": [
    "from sklearn.neighbors import KNeighborsClassifier\n",
    "\n",
    "knn_model = KNeighborsClassifier(n_neighbors=5)\n",
    "knn_model.fit(X_train, y_train)\n",
    "\n",
    "y_pred_knn = knn_model.predict(X_test)"
   ]
  },
  {
   "cell_type": "code",
   "execution_count": 14,
   "metadata": {},
   "outputs": [],
   "source": [
    "results2 = pd.DataFrame()\n",
    "results2['PassengerId'] = ID_test\n",
    "results2['Survived'] = y_pred_knn\n",
    "\n",
    "results.to_csv(r'data/results2.csv', index=False)"
   ]
  },
  {
   "cell_type": "code",
   "execution_count": null,
   "metadata": {},
   "outputs": [],
   "source": []
  }
 ]
}