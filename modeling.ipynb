{
 "metadata": {
  "language_info": {
   "codemirror_mode": {
    "name": "ipython",
    "version": 3
   },
   "file_extension": ".py",
   "mimetype": "text/x-python",
   "name": "python",
   "nbconvert_exporter": "python",
   "pygments_lexer": "ipython3",
   "version": "3.7.7-final"
  },
  "orig_nbformat": 2,
  "kernelspec": {
   "name": "python3",
   "display_name": "Python 3.7.7 64-bit ('ml_python': conda)",
   "metadata": {
    "interpreter": {
     "hash": "425c0ff3b57f916dcf47ed9bc3b06c8afea4e3946eb75ed292419f63c36692ce"
    }
   }
  }
 },
 "nbformat": 4,
 "nbformat_minor": 2,
 "cells": [
  {
   "cell_type": "code",
   "execution_count": 3,
   "metadata": {},
   "outputs": [],
   "source": [
    "import pandas as pd\n",
    "import numpy as np\n",
    "from sklearn.neural_network import MLPClassifier"
   ]
  },
  {
   "cell_type": "code",
   "execution_count": 19,
   "metadata": {},
   "outputs": [],
   "source": [
    "X_train = pd.read_csv('data/train2.csv')\n",
    "X_test = pd.read_csv('data/test2.csv')\n",
    "\n",
    "y_train = X_train['Survived']\n",
    "y_train = np.asarray(y_train)\n",
    "\n",
    "ID_train = X_train['PassengerId']\n",
    "ID_train = np.asarray(ID_train)\n",
    "\n",
    "X_train = X_train.drop(columns=['PassengerId', 'Survived'])\n",
    "X_train = np.asarray(X_train)\n",
    "\n",
    "ID_test = X_test['PassengerId']\n",
    "ID_test = np.asarray(ID_test)\n",
    "\n",
    "X_test = X_test.drop(columns=['PassengerId'])\n",
    "X_test = np.asarray(X_test)"
   ]
  },
  {
   "cell_type": "code",
   "execution_count": 20,
   "metadata": {},
   "outputs": [
    {
     "output_type": "stream",
     "name": "stdout",
     "text": [
      "[[1.         0.12134831 1.         ... 0.01367188 0.42465753 1.        ]\n [0.         0.21348315 0.         ... 0.13867188 0.55479452 0.        ]\n [1.         0.39662921 0.         ... 0.015625   0.53424658 1.        ]\n ...\n [1.         0.46404494 0.         ... 0.04492188 0.6369863  1.        ]\n [0.         0.09101124 1.         ... 0.05859375 0.4109589  0.        ]\n [1.         0.24719101 1.         ... 0.015625   0.64383562 0.5       ]]\n"
     ]
    }
   ],
   "source": [
    "print(X_train)"
   ]
  },
  {
   "cell_type": "code",
   "execution_count": 23,
   "metadata": {},
   "outputs": [],
   "source": [
    "from sklearn.linear_model import LogisticRegression\n",
    "\n",
    "lr_model = LogisticRegression(penalty='l2', random_state=0, solver='liblinear')\n",
    "lr_model.fit(X_train, y_train)\n",
    "\n",
    "y_pred_lr = lr_model.predict(X_test)"
   ]
  },
  {
   "cell_type": "code",
   "execution_count": 24,
   "metadata": {},
   "outputs": [],
   "source": [
    "results = pd.DataFrame()\n",
    "results['PassengerId'] = ID_test\n",
    "results['Survived'] = y_pred_lr\n",
    "\n",
    "results.to_csv(r'data/results4.csv', index=False)"
   ]
  },
  {
   "cell_type": "code",
   "execution_count": 25,
   "metadata": {},
   "outputs": [],
   "source": [
    "from sklearn.ensemble import RandomForestClassifier\n",
    "\n",
    "rfc_model = RandomForestClassifier(criterion='entropy', random_state=0, max_features='log2', class_weight='balanced_subsample')\n",
    "rfc_model.fit(X_train, y_train)\n",
    "\n",
    "y_pred_rfc = rfc_model.predict(X_test)"
   ]
  },
  {
   "cell_type": "code",
   "execution_count": 26,
   "metadata": {},
   "outputs": [],
   "source": [
    "results = pd.DataFrame()\n",
    "results['PassengerId'] = ID_test\n",
    "results['Survived'] = y_pred_rfc\n",
    "\n",
    "results.to_csv(r'data/results5.csv', index=False)"
   ]
  },
  {
   "cell_type": "code",
   "execution_count": 27,
   "metadata": {},
   "outputs": [],
   "source": [
    "from sklearn.ensemble import AdaBoostClassifier\n",
    "\n",
    "# Create AdaBoost classifier model and train on training data\n",
    "ada_model = AdaBoostClassifier(n_estimators=75, random_state=0)\n",
    "ada_model.fit(X_train, y_train)\n",
    "\n",
    "# Make predictions on test data and print the test accuracy\n",
    "y_pred_ada = ada_model.predict(X_test)"
   ]
  },
  {
   "cell_type": "code",
   "execution_count": 28,
   "metadata": {},
   "outputs": [],
   "source": [
    "results = pd.DataFrame()\n",
    "results['PassengerId'] = ID_test\n",
    "results['Survived'] = y_pred_ada\n",
    "\n",
    "results.to_csv(r'data/results6.csv', index=False)"
   ]
  },
  {
   "cell_type": "code",
   "execution_count": null,
   "metadata": {},
   "outputs": [],
   "source": []
  }
 ]
}